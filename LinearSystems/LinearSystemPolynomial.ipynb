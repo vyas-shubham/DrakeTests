{
 "cells": [
  {
   "cell_type": "code",
   "execution_count": 42,
   "metadata": {},
   "outputs": [],
   "source": [
    "import sys\n",
    "import importlib\n",
    "from urllib.request import urlretrieve\n",
    "\n",
    "# Install drake (and underactuated).\n",
    "if 'google.colab' in sys.modules and importlib.util.find_spec('underactuated') is None:\n",
    "    urlretrieve(f\"http://underactuated.csail.mit.edu/scripts/setup/setup_underactuated_colab.py\",\n",
    "                \"setup_underactuated_colab.py\")\n",
    "    from setup_underactuated_colab import setup_underactuated\n",
    "    setup_underactuated(underactuated_sha='560c2adace05eb20ebd78377582015d5b2d3859a', drake_version='0.27.0', drake_build='release')"
   ]
  },
  {
   "cell_type": "code",
   "execution_count": 43,
   "metadata": {},
   "outputs": [],
   "source": [
    "# Do general python imports\n",
    "\n",
    "import os\n",
    "import numpy as np\n",
    "import matplotlib.pyplot as plt\n",
    "\n",
    "# Drake Imports\n",
    "\n",
    "from pydrake.all import PiecewisePolynomial"
   ]
  },
  {
   "cell_type": "markdown",
   "metadata": {},
   "source": [
    "# Pieceswise Polynomial of a Time Varying Linear System\n",
    "\n",
    "We are trying to create a `TimeVaryingAffineSystem` which requires `PiecewisePolynomial` as inputs. For the $A(t)$ time varying state matrix, we take a 2x2 matrix which signifies changing dynamics in this case. Similar example can be expanded to include real time-varying dynamics i.e TVLQR.\n",
    "\n",
    "Here we consider the following time-steps for our system: t = [0.1, 0.2, 0.3]. For these time-steps, the time-varying dynamics can be given as:\n",
    "$$\n",
    "A(t[0]) = A(t=0.1) = A_1 = \n",
    "\\begin{bmatrix}\n",
    "0.1 & 0 \\\\\n",
    "0 & 0.1\n",
    "\\end{bmatrix}\n",
    "$$\n",
    "\n",
    "$$\n",
    "A(t[1]) = A(t=0.2) = A_2 =\n",
    "\\begin{bmatrix}\n",
    "0.2 & 0 \\\\\n",
    "0 & 0.2\n",
    "\\end{bmatrix}\n",
    "$$\n",
    "\n",
    "$$\n",
    "A(t[2]) = A(t=0.3) = A_3 =\n",
    "\\begin{bmatrix}\n",
    "0.3 & 0 \\\\\n",
    "0 & 0.3\n",
    "\\end{bmatrix}\n",
    "$$\n",
    "\n",
    "for all of these, the matrix $B = [0, 1]^T$.\n",
    "\n",
    "Using the above time-varying linear system to try to create a `TimeVaryingAffineSystem`. For this, we need to create a `PiecewisePolynomial` for the time-varying A and B matrices."
   ]
  },
  {
   "cell_type": "code",
   "execution_count": 44,
   "metadata": {},
   "outputs": [],
   "source": [
    "A1 = np.array([[0.1, 0], [0, 0.1]])\n",
    "A2 = np.array([[0.2, 0], [0, 0.2]])\n",
    "A3 = np.array([[0.3, 0], [0, 0.3]])\n",
    "\n",
    "# A1 = np.asfortranarray(A1)\n",
    "# A2 = np.asfortranarray(A2)\n",
    "# A3 = np.asfortranarray(A3)\n",
    "\n",
    "t = [0.1, 0.2, 0.3]\n",
    "\n",
    "B1 = np.array([[0], [1]])\n",
    "B2 = np.array([[0], [1]])\n",
    "B3 = np.array([[0], [1]])\n",
    "\n",
    "B = np.hstack([B1, B2, B3])"
   ]
  },
  {
   "cell_type": "markdown",
   "metadata": {},
   "source": [
    "We now try to create a `PiecewisePolynomial` without success by initializing using the matrices in different ways:"
   ]
  },
  {
   "cell_type": "code",
   "execution_count": 45,
   "metadata": {
    "scrolled": true
   },
   "outputs": [
    {
     "ename": "TypeError",
     "evalue": "__init__(): incompatible constructor arguments. The following argument types are supported:\n    1. pydrake.trajectories.PiecewisePolynomial()\n    2. pydrake.trajectories.PiecewisePolynomial(arg0: numpy.ndarray[numpy.float64[m, n], flags.f_contiguous])\n    3. pydrake.trajectories.PiecewisePolynomial(arg0: List[numpy.ndarray[object[m, n]]], arg1: List[float])\n    4. pydrake.trajectories.PiecewisePolynomial(arg0: List[pydrake.polynomial.Polynomial], arg1: List[float])\n\nInvoked with: array([[[0.1, 0. ],\n        [0. , 0.1]],\n\n       [[0.2, 0. ],\n        [0. , 0.2]],\n\n       [[0.3, 0. ],\n        [0. , 0.3]]]), [0.1, 0.2, 0.3]",
     "output_type": "error",
     "traceback": [
      "\u001b[0;31m---------------------------------------------------------------------------\u001b[0m",
      "\u001b[0;31mTypeError\u001b[0m                                 Traceback (most recent call last)",
      "\u001b[0;32m<ipython-input-45-ab6c1d8a733f>\u001b[0m in \u001b[0;36m<module>\u001b[0;34m\u001b[0m\n\u001b[0;32m----> 1\u001b[0;31m \u001b[0mPolyA\u001b[0m \u001b[0;34m=\u001b[0m \u001b[0mPiecewisePolynomial\u001b[0m\u001b[0;34m(\u001b[0m\u001b[0mnp\u001b[0m\u001b[0;34m.\u001b[0m\u001b[0marray\u001b[0m\u001b[0;34m(\u001b[0m\u001b[0;34m[\u001b[0m\u001b[0mA1\u001b[0m\u001b[0;34m,\u001b[0m \u001b[0mA2\u001b[0m\u001b[0;34m,\u001b[0m \u001b[0mA3\u001b[0m\u001b[0;34m]\u001b[0m\u001b[0;34m)\u001b[0m\u001b[0;34m,\u001b[0m \u001b[0mt\u001b[0m\u001b[0;34m)\u001b[0m\u001b[0;34m\u001b[0m\u001b[0;34m\u001b[0m\u001b[0m\n\u001b[0m",
      "\u001b[0;31mTypeError\u001b[0m: __init__(): incompatible constructor arguments. The following argument types are supported:\n    1. pydrake.trajectories.PiecewisePolynomial()\n    2. pydrake.trajectories.PiecewisePolynomial(arg0: numpy.ndarray[numpy.float64[m, n], flags.f_contiguous])\n    3. pydrake.trajectories.PiecewisePolynomial(arg0: List[numpy.ndarray[object[m, n]]], arg1: List[float])\n    4. pydrake.trajectories.PiecewisePolynomial(arg0: List[pydrake.polynomial.Polynomial], arg1: List[float])\n\nInvoked with: array([[[0.1, 0. ],\n        [0. , 0.1]],\n\n       [[0.2, 0. ],\n        [0. , 0.2]],\n\n       [[0.3, 0. ],\n        [0. , 0.3]]]), [0.1, 0.2, 0.3]"
     ]
    }
   ],
   "source": [
    "PolyA = PiecewisePolynomial(np.array([A1, A2, A3]), t)"
   ]
  },
  {
   "cell_type": "code",
   "execution_count": 46,
   "metadata": {
    "scrolled": false
   },
   "outputs": [
    {
     "ename": "TypeError",
     "evalue": "__init__(): incompatible constructor arguments. The following argument types are supported:\n    1. pydrake.trajectories.PiecewisePolynomial()\n    2. pydrake.trajectories.PiecewisePolynomial(arg0: numpy.ndarray[numpy.float64[m, n], flags.f_contiguous])\n    3. pydrake.trajectories.PiecewisePolynomial(arg0: List[numpy.ndarray[object[m, n]]], arg1: List[float])\n    4. pydrake.trajectories.PiecewisePolynomial(arg0: List[pydrake.polynomial.Polynomial], arg1: List[float])\n\nInvoked with: array([[[[0.1, 0. ],\n         [0. , 0.1]]],\n\n\n       [[[0.2, 0. ],\n         [0. , 0.2]]],\n\n\n       [[[0.3, 0. ],\n         [0. , 0.3]]]]), [0.1, 0.2, 0.3]",
     "output_type": "error",
     "traceback": [
      "\u001b[0;31m---------------------------------------------------------------------------\u001b[0m",
      "\u001b[0;31mTypeError\u001b[0m                                 Traceback (most recent call last)",
      "\u001b[0;32m<ipython-input-46-200a5510e1d1>\u001b[0m in \u001b[0;36m<module>\u001b[0;34m\u001b[0m\n\u001b[0;32m----> 1\u001b[0;31m \u001b[0mPolyA\u001b[0m \u001b[0;34m=\u001b[0m \u001b[0mPiecewisePolynomial\u001b[0m\u001b[0;34m(\u001b[0m\u001b[0mnp\u001b[0m\u001b[0;34m.\u001b[0m\u001b[0marray\u001b[0m\u001b[0;34m(\u001b[0m\u001b[0;34m[\u001b[0m\u001b[0;34m[\u001b[0m\u001b[0mA1\u001b[0m\u001b[0;34m]\u001b[0m\u001b[0;34m,\u001b[0m \u001b[0;34m[\u001b[0m\u001b[0mA2\u001b[0m\u001b[0;34m]\u001b[0m\u001b[0;34m,\u001b[0m \u001b[0;34m[\u001b[0m\u001b[0mA3\u001b[0m\u001b[0;34m]\u001b[0m\u001b[0;34m]\u001b[0m\u001b[0;34m)\u001b[0m\u001b[0;34m,\u001b[0m \u001b[0mt\u001b[0m\u001b[0;34m)\u001b[0m\u001b[0;34m\u001b[0m\u001b[0;34m\u001b[0m\u001b[0m\n\u001b[0m",
      "\u001b[0;31mTypeError\u001b[0m: __init__(): incompatible constructor arguments. The following argument types are supported:\n    1. pydrake.trajectories.PiecewisePolynomial()\n    2. pydrake.trajectories.PiecewisePolynomial(arg0: numpy.ndarray[numpy.float64[m, n], flags.f_contiguous])\n    3. pydrake.trajectories.PiecewisePolynomial(arg0: List[numpy.ndarray[object[m, n]]], arg1: List[float])\n    4. pydrake.trajectories.PiecewisePolynomial(arg0: List[pydrake.polynomial.Polynomial], arg1: List[float])\n\nInvoked with: array([[[[0.1, 0. ],\n         [0. , 0.1]]],\n\n\n       [[[0.2, 0. ],\n         [0. , 0.2]]],\n\n\n       [[[0.3, 0. ],\n         [0. , 0.3]]]]), [0.1, 0.2, 0.3]"
     ]
    }
   ],
   "source": [
    "PolyA = PiecewisePolynomial(np.array([[A1], [A2], [A3]]), t)"
   ]
  },
  {
   "cell_type": "markdown",
   "metadata": {},
   "source": [
    "Looking at the above type errors, we specifically tailer the initialization to the following acceptable type (Type 3):\n",
    "\n",
    "`3. pydrake.trajectories.PiecewisePolynomial(arg0: List[numpy.ndarray[object[m, n]]], arg1: List[float])`\n",
    "\n",
    "Try with passing a list of numpy arrays as the first argument and the list of time steps at the second argument"
   ]
  },
  {
   "cell_type": "code",
   "execution_count": 47,
   "metadata": {},
   "outputs": [
    {
     "ename": "TypeError",
     "evalue": "__init__(): incompatible constructor arguments. The following argument types are supported:\n    1. pydrake.trajectories.PiecewisePolynomial()\n    2. pydrake.trajectories.PiecewisePolynomial(arg0: numpy.ndarray[numpy.float64[m, n], flags.f_contiguous])\n    3. pydrake.trajectories.PiecewisePolynomial(arg0: List[numpy.ndarray[object[m, n]]], arg1: List[float])\n    4. pydrake.trajectories.PiecewisePolynomial(arg0: List[pydrake.polynomial.Polynomial], arg1: List[float])\n\nInvoked with: [array([[0.1, 0. ],\n       [0. , 0.1]]), array([[0.2, 0. ],\n       [0. , 0.2]]), array([[0.3, 0. ],\n       [0. , 0.3]])], [0.1, 0.2, 0.3]",
     "output_type": "error",
     "traceback": [
      "\u001b[0;31m---------------------------------------------------------------------------\u001b[0m",
      "\u001b[0;31mTypeError\u001b[0m                                 Traceback (most recent call last)",
      "\u001b[0;32m<ipython-input-47-88b5c354b09b>\u001b[0m in \u001b[0;36m<module>\u001b[0;34m\u001b[0m\n\u001b[0;32m----> 1\u001b[0;31m \u001b[0mPolyA\u001b[0m \u001b[0;34m=\u001b[0m \u001b[0mPiecewisePolynomial\u001b[0m\u001b[0;34m(\u001b[0m\u001b[0;34m[\u001b[0m\u001b[0mA1\u001b[0m\u001b[0;34m,\u001b[0m \u001b[0mA2\u001b[0m\u001b[0;34m,\u001b[0m \u001b[0mA3\u001b[0m\u001b[0;34m]\u001b[0m\u001b[0;34m,\u001b[0m \u001b[0mt\u001b[0m\u001b[0;34m)\u001b[0m\u001b[0;34m\u001b[0m\u001b[0;34m\u001b[0m\u001b[0m\n\u001b[0m",
      "\u001b[0;31mTypeError\u001b[0m: __init__(): incompatible constructor arguments. The following argument types are supported:\n    1. pydrake.trajectories.PiecewisePolynomial()\n    2. pydrake.trajectories.PiecewisePolynomial(arg0: numpy.ndarray[numpy.float64[m, n], flags.f_contiguous])\n    3. pydrake.trajectories.PiecewisePolynomial(arg0: List[numpy.ndarray[object[m, n]]], arg1: List[float])\n    4. pydrake.trajectories.PiecewisePolynomial(arg0: List[pydrake.polynomial.Polynomial], arg1: List[float])\n\nInvoked with: [array([[0.1, 0. ],\n       [0. , 0.1]]), array([[0.2, 0. ],\n       [0. , 0.2]]), array([[0.3, 0. ],\n       [0. , 0.3]])], [0.1, 0.2, 0.3]"
     ]
    }
   ],
   "source": [
    "PolyA = PiecewisePolynomial([A1, A2, A3], t)"
   ]
  },
  {
   "cell_type": "markdown",
   "metadata": {},
   "source": [
    "However, making a `PiecewisePolynomial` with a time-varying 1D array (instead of 2D array) is easier as shown below:"
   ]
  },
  {
   "cell_type": "code",
   "execution_count": 48,
   "metadata": {},
   "outputs": [],
   "source": [
    "PolyB = PiecewisePolynomial.FirstOrderHold(t, B)"
   ]
  },
  {
   "cell_type": "markdown",
   "metadata": {},
   "source": [
    "Using similar method for 2D array fails:"
   ]
  },
  {
   "cell_type": "code",
   "execution_count": 49,
   "metadata": {},
   "outputs": [
    {
     "ename": "SystemExit",
     "evalue": "Failure at common/trajectories/piecewise_polynomial.cc:1116 in FirstOrderHold(): condition 'samples.cols() == breaks.size()' failed.",
     "output_type": "error",
     "traceback": [
      "An exception has occurred, use %tb to see the full traceback.\n",
      "\u001b[0;31mSystemExit\u001b[0m\u001b[0;31m:\u001b[0m Failure at common/trajectories/piecewise_polynomial.cc:1116 in FirstOrderHold(): condition 'samples.cols() == breaks.size()' failed.\n"
     ]
    },
    {
     "name": "stderr",
     "output_type": "stream",
     "text": [
      "/home/dfki.uni-bremen.de/svyas/.local/lib/python3.6/site-packages/IPython/core/interactiveshell.py:3351: UserWarning: To exit: use 'exit', 'quit', or Ctrl-D.\n",
      "  warn(\"To exit: use 'exit', 'quit', or Ctrl-D.\", stacklevel=1)\n"
     ]
    }
   ],
   "source": [
    "PolyA = PiecewisePolynomial.FirstOrderHold(t, np.hstack([A1, A2, A3]))"
   ]
  },
  {
   "cell_type": "code",
   "execution_count": 56,
   "metadata": {},
   "outputs": [
    {
     "ename": "TypeError",
     "evalue": "FirstOrderHold(): incompatible function arguments. The following argument types are supported:\n    1. (arg0: numpy.ndarray[numpy.float64[m, 1]], arg1: numpy.ndarray[numpy.float64[m, n], flags.f_contiguous]) -> pydrake.trajectories.PiecewisePolynomial\n\nInvoked with: [0.1, 0.2, 0.3], array([[[0.1, 0.2, 0.3],\n        [0. , 0. , 0. ]],\n\n       [[0. , 0. , 0. ],\n        [0.1, 0.2, 0.3]]])",
     "output_type": "error",
     "traceback": [
      "\u001b[0;31m---------------------------------------------------------------------------\u001b[0m",
      "\u001b[0;31mTypeError\u001b[0m                                 Traceback (most recent call last)",
      "\u001b[0;32m<ipython-input-56-04edb5208504>\u001b[0m in \u001b[0;36m<module>\u001b[0;34m\u001b[0m\n\u001b[1;32m      1\u001b[0m \u001b[0mA\u001b[0m \u001b[0;34m=\u001b[0m \u001b[0mnp\u001b[0m\u001b[0;34m.\u001b[0m\u001b[0marray\u001b[0m\u001b[0;34m(\u001b[0m\u001b[0;34m[\u001b[0m\u001b[0mA1\u001b[0m\u001b[0;34m,\u001b[0m \u001b[0mA2\u001b[0m\u001b[0;34m,\u001b[0m \u001b[0mA3\u001b[0m\u001b[0;34m]\u001b[0m\u001b[0;34m)\u001b[0m\u001b[0;34m.\u001b[0m\u001b[0mT\u001b[0m\u001b[0;34m\u001b[0m\u001b[0;34m\u001b[0m\u001b[0m\n\u001b[0;32m----> 2\u001b[0;31m \u001b[0mPolyA\u001b[0m \u001b[0;34m=\u001b[0m \u001b[0mPiecewisePolynomial\u001b[0m\u001b[0;34m.\u001b[0m\u001b[0mFirstOrderHold\u001b[0m\u001b[0;34m(\u001b[0m\u001b[0mt\u001b[0m\u001b[0;34m,\u001b[0m \u001b[0mA\u001b[0m\u001b[0;34m)\u001b[0m\u001b[0;34m\u001b[0m\u001b[0;34m\u001b[0m\u001b[0m\n\u001b[0m",
      "\u001b[0;31mTypeError\u001b[0m: FirstOrderHold(): incompatible function arguments. The following argument types are supported:\n    1. (arg0: numpy.ndarray[numpy.float64[m, 1]], arg1: numpy.ndarray[numpy.float64[m, n], flags.f_contiguous]) -> pydrake.trajectories.PiecewisePolynomial\n\nInvoked with: [0.1, 0.2, 0.3], array([[[0.1, 0.2, 0.3],\n        [0. , 0. , 0. ]],\n\n       [[0. , 0. , 0. ],\n        [0.1, 0.2, 0.3]]])"
     ]
    }
   ],
   "source": [
    "A = np.array([A1, A2, A3]).T\n",
    "PolyA = PiecewisePolynomial.FirstOrderHold(t, A)"
   ]
  },
  {
   "cell_type": "code",
   "execution_count": 57,
   "metadata": {},
   "outputs": [
    {
     "name": "stdout",
     "output_type": "stream",
     "text": [
      "True\n"
     ]
    }
   ],
   "source": [
    "A = np.asfortranarray(A)\n",
    "print(A.flags['F_CONTIGUOUS'])"
   ]
  },
  {
   "cell_type": "code",
   "execution_count": 58,
   "metadata": {},
   "outputs": [
    {
     "ename": "TypeError",
     "evalue": "FirstOrderHold(): incompatible function arguments. The following argument types are supported:\n    1. (arg0: numpy.ndarray[numpy.float64[m, 1]], arg1: numpy.ndarray[numpy.float64[m, n], flags.f_contiguous]) -> pydrake.trajectories.PiecewisePolynomial\n\nInvoked with: [0.1, 0.2, 0.3], array([[[0.1, 0.2, 0.3],\n        [0. , 0. , 0. ]],\n\n       [[0. , 0. , 0. ],\n        [0.1, 0.2, 0.3]]])",
     "output_type": "error",
     "traceback": [
      "\u001b[0;31m---------------------------------------------------------------------------\u001b[0m",
      "\u001b[0;31mTypeError\u001b[0m                                 Traceback (most recent call last)",
      "\u001b[0;32m<ipython-input-58-744c483ea83b>\u001b[0m in \u001b[0;36m<module>\u001b[0;34m\u001b[0m\n\u001b[0;32m----> 1\u001b[0;31m \u001b[0mPolyA\u001b[0m \u001b[0;34m=\u001b[0m \u001b[0mPiecewisePolynomial\u001b[0m\u001b[0;34m.\u001b[0m\u001b[0mFirstOrderHold\u001b[0m\u001b[0;34m(\u001b[0m\u001b[0mt\u001b[0m\u001b[0;34m,\u001b[0m \u001b[0mA\u001b[0m\u001b[0;34m)\u001b[0m\u001b[0;34m\u001b[0m\u001b[0;34m\u001b[0m\u001b[0m\n\u001b[0m",
      "\u001b[0;31mTypeError\u001b[0m: FirstOrderHold(): incompatible function arguments. The following argument types are supported:\n    1. (arg0: numpy.ndarray[numpy.float64[m, 1]], arg1: numpy.ndarray[numpy.float64[m, n], flags.f_contiguous]) -> pydrake.trajectories.PiecewisePolynomial\n\nInvoked with: [0.1, 0.2, 0.3], array([[[0.1, 0.2, 0.3],\n        [0. , 0. , 0. ]],\n\n       [[0. , 0. , 0. ],\n        [0.1, 0.2, 0.3]]])"
     ]
    }
   ],
   "source": [
    "PolyA = PiecewisePolynomial.FirstOrderHold(t, A)"
   ]
  },
  {
   "cell_type": "code",
   "execution_count": null,
   "metadata": {},
   "outputs": [],
   "source": []
  }
 ],
 "metadata": {
  "kernelspec": {
   "display_name": "Python 3",
   "language": "python",
   "name": "python3"
  },
  "language_info": {
   "codemirror_mode": {
    "name": "ipython",
    "version": 3
   },
   "file_extension": ".py",
   "mimetype": "text/x-python",
   "name": "python",
   "nbconvert_exporter": "python",
   "pygments_lexer": "ipython3",
   "version": "3.6.9"
  }
 },
 "nbformat": 4,
 "nbformat_minor": 4
}
