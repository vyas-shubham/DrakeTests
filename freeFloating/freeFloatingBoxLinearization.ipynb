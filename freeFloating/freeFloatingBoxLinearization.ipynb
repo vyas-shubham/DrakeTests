{
 "cells": [
  {
   "cell_type": "code",
   "execution_count": 1,
   "metadata": {},
   "outputs": [],
   "source": [
    "import importlib\n",
    "import sys\n",
    "from urllib.request import urlretrieve\n",
    "\n",
    "# Install drake (and underactuated).\n",
    "if 'google.colab' in sys.modules and importlib.util.find_spec('underactuated') is None:\n",
    "    urlretrieve(f\"http://underactuated.csail.mit.edu/scripts/setup/setup_underactuated_colab.py\",\n",
    "                \"setup_underactuated_colab.py\")\n",
    "    from setup_underactuated_colab import setup_underactuated\n",
    "    setup_underactuated(underactuated_sha='ffe2b28ed89637889c04405e5d7d2d98be3df5b6', drake_version='0.27.0', drake_build='release')"
   ]
  },
  {
   "cell_type": "code",
   "execution_count": 2,
   "metadata": {},
   "outputs": [],
   "source": [
    "# Do general python imports\n",
    "import os\n",
    "import numpy as np\n",
    "import matplotlib.pyplot as plt\n",
    "import pickle\n",
    "\n",
    "# Drake Imports\n",
    "\n",
    "from pydrake.all import MultibodyPlant, Parser\n",
    "from pydrake.all import Linearize, LinearQuadraticRegulator, IsControllable, ControllabilityMatrix"
   ]
  },
  {
   "cell_type": "code",
   "execution_count": 3,
   "metadata": {},
   "outputs": [],
   "source": [
    "box_urdf = \"\"\"\n",
    "<?xml version=\"1.0\"?>\n",
    "<robot name=\"box\" >\n",
    "    <link name=\"box_link\">\n",
    "        <inertial>\n",
    "            <origin xyz=\"0 0 0\" rpy=\"0 0 0\"/>\n",
    "            <mass value=\"1\"/>\n",
    "            <inertia ixx=\"100\"  ixy=\"0\"  ixz=\"0\" iyy=\"100\" iyz=\"0\" izz=\"100\" />\n",
    "        </inertial>\n",
    "        <visual>\n",
    "            <origin xyz=\"0 0 0\" rpy=\"0 0 0\" />\n",
    "            <geometry>\n",
    "                <box size=\"1. 1. 2.\" />\n",
    "            </geometry>\n",
    "            <material name=\"Cyan\">\n",
    "                <color rgba=\"0 1.0 1.0 1.0\"/>\n",
    "            </material>\n",
    "        </visual>\n",
    "    </link>\n",
    "</robot>\n",
    "\"\"\""
   ]
  },
  {
   "cell_type": "code",
   "execution_count": 4,
   "metadata": {},
   "outputs": [
    {
     "data": {
      "text/plain": [
       "<pydrake.systems.framework.FixedInputPortValue at 0x7fdc56237bb0>"
      ]
     },
     "execution_count": 4,
     "metadata": {},
     "output_type": "execute_result"
    }
   ],
   "source": [
    "# Setup Drake Multibody Plant\n",
    "\n",
    "SC_plant = MultibodyPlant(time_step=0.0)\n",
    "# scene_graph = SceneGraph()\n",
    "# SC_plant.RegisterAsSourceForSceneGraph(scene_graph)\n",
    "SC_instance = Parser(SC_plant).AddModelFromString(box_urdf, \"urdf\")\n",
    "# Remove gravity\n",
    "plantGravityField = SC_plant.gravity_field()\n",
    "plantGravityField.set_gravity_vector([0,0,0])\n",
    "SC_plant.Finalize()\n",
    "\n",
    "SC_context = SC_plant.CreateDefaultContext()\n",
    "\n",
    "# Use Generalized Forces for Linearization\n",
    "generalized_forces_port = SC_plant.get_applied_generalized_force_input_port()\n",
    "generalized_forces_port.FixValue(SC_context, np.zeros((generalized_forces_port.size(), 1)))"
   ]
  },
  {
   "cell_type": "code",
   "execution_count": 5,
   "metadata": {},
   "outputs": [],
   "source": [
    "SC_plant_linear = Linearize(SC_plant, SC_context,\n",
    "                            input_port_index=SC_plant.get_applied_generalized_force_input_port().get_index(),\n",
    "                            output_port_index=SC_plant.get_state_output_port().get_index())"
   ]
  },
  {
   "cell_type": "code",
   "execution_count": 6,
   "metadata": {},
   "outputs": [],
   "source": [
    "AMatrix = SC_plant_linear.A()\n",
    "BMatrix = SC_plant_linear.B()\n",
    "CMatrix = SC_plant_linear.C()\n",
    "DMatrix = SC_plant_linear.D()"
   ]
  },
  {
   "cell_type": "code",
   "execution_count": 7,
   "metadata": {},
   "outputs": [
    {
     "data": {
      "text/plain": [
       "False"
      ]
     },
     "execution_count": 7,
     "metadata": {},
     "output_type": "execute_result"
    }
   ],
   "source": [
    "IsControllable(SC_plant_linear)"
   ]
  },
  {
   "cell_type": "code",
   "execution_count": 8,
   "metadata": {},
   "outputs": [],
   "source": [
    "ctrlb = ControllabilityMatrix(SC_plant_linear)"
   ]
  },
  {
   "cell_type": "code",
   "execution_count": 9,
   "metadata": {},
   "outputs": [
    {
     "data": {
      "text/plain": [
       "12"
      ]
     },
     "execution_count": 9,
     "metadata": {},
     "output_type": "execute_result"
    }
   ],
   "source": [
    "np.linalg.matrix_rank(ctrlb)"
   ]
  },
  {
   "cell_type": "code",
   "execution_count": null,
   "metadata": {},
   "outputs": [],
   "source": []
  }
 ],
 "metadata": {
  "kernelspec": {
   "display_name": "Python 3",
   "language": "python",
   "name": "python3"
  },
  "language_info": {
   "codemirror_mode": {
    "name": "ipython",
    "version": 3
   },
   "file_extension": ".py",
   "mimetype": "text/x-python",
   "name": "python",
   "nbconvert_exporter": "python",
   "pygments_lexer": "ipython3",
   "version": "3.6.9"
  }
 },
 "nbformat": 4,
 "nbformat_minor": 4
}
