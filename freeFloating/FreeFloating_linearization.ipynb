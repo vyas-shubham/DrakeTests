{
 "cells": [
  {
   "cell_type": "markdown",
   "metadata": {},
   "source": [
    "## Setup PyDrake using underactuated in Google Colab"
   ]
  },
  {
   "cell_type": "code",
   "execution_count": 19,
   "metadata": {},
   "outputs": [],
   "source": [
    "import sys\n",
    "import importlib\n",
    "from urllib.request import urlretrieve\n",
    "\n",
    "if 'google.colab' in sys.modules and importlib.util.find_spec('pydrake') is None:\n",
    "  !curl -s https://raw.githubusercontent.com/RussTedrake/underactuated/master/scripts/setup/jupyter_setup.py > jupyter_setup.py\n",
    "  from jupyter_setup import setup_underactuated\n",
    "  setup_underactuated()"
   ]
  },
  {
   "cell_type": "markdown",
   "metadata": {},
   "source": [
    "## Import Libraries"
   ]
  },
  {
   "cell_type": "code",
   "execution_count": 20,
   "metadata": {},
   "outputs": [],
   "source": [
    "# Do general python imports\n",
    "\n",
    "import os\n",
    "import numpy as np\n",
    "import matplotlib.pyplot as plt\n",
    "\n",
    "# Drake Imports\n",
    "\n",
    "from pydrake.all import (DiagramBuilder, AddMultibodyPlantSceneGraph, Parser, MultibodyPlant, Variable, Simulator)\n",
    "from pydrake.all import Linearize, LinearQuadraticRegulator\n",
    "from pydrake.all import plot_system_graphviz, PlanarSceneGraphVisualizer\n",
    "\n",
    "from underactuated.jupyter import AdvanceToAndVisualize, SetupMatplotlibBackend\n",
    "plt_is_interactive = SetupMatplotlibBackend()"
   ]
  },
  {
   "cell_type": "markdown",
   "metadata": {},
   "source": [
    "## Setup URDF Model Path"
   ]
  },
  {
   "cell_type": "code",
   "execution_count": 21,
   "metadata": {},
   "outputs": [],
   "source": [
    "if 'google.colab' in sys.modules:\n",
    "  # Check if this cell has already been run:\n",
    "  if not os.path.isdir('DrakeTests/freeFloating/'):\n",
    "    !git clone https://github.com/vyas-shubham/DrakeTests.git\n",
    "  urdfFolderPath = 'DrakeTests/freeFloating/'\n",
    "else:\n",
    "  urdfFolderPath = ''\n",
    "\n",
    "# Comment/Uncomment the lines below to select a S/C URDF\n",
    "filePath = urdfFolderPath+'planarSC_no_collision.urdf'\n",
    "assert os.path.isfile(filePath)"
   ]
  },
  {
   "cell_type": "markdown",
   "metadata": {},
   "source": [
    "## Continuous Time MultiBodyPlant"
   ]
  },
  {
   "cell_type": "code",
   "execution_count": 22,
   "metadata": {},
   "outputs": [],
   "source": [
    "builder = DiagramBuilder()\n",
    "\n",
    "# Adds both MultibodyPlant and the SceneGraph, and wires them together.\n",
    "plant, scene_graph = AddMultibodyPlantSceneGraph(builder, time_step=0.0)\n",
    "# Note that we parse into both the plant and the scene_graph here.\n",
    "Parser(plant, scene_graph).AddModelFromFile(filePath)\n",
    "# Remove gravity\n",
    "plantGravityField = plant.gravity_field()\n",
    "plantGravityField.set_gravity_vector([0,0,0])\n",
    "plant.Finalize()"
   ]
  },
  {
   "cell_type": "markdown",
   "metadata": {},
   "source": [
    "## Create a Continuous Time Linear System"
   ]
  },
  {
   "cell_type": "code",
   "execution_count": 23,
   "metadata": {},
   "outputs": [],
   "source": [
    "# Linearize around Zero position and Velocity\n",
    "joints_default_pos = [0, 0, 0]\n",
    "joints_default_vel = [0, 0, 0]\n",
    "# Deafault Free-Floating Base Position (quaternion/position) and velocities (angular/linear)\n",
    "base_default_pose = [1.0, 0, 0, 0, 0, 0, 0]\n",
    "base_default_vel = [0, 0, 0, 0, 0, 0]\n",
    "q = base_default_pose+joints_default_pos\n",
    "q_d = base_default_vel+joints_default_vel\n",
    "\n",
    "linearize_context = plant.CreateDefaultContext()\n",
    "plant.SetPositions(linearize_context, q)\n",
    "plant.SetVelocities(linearize_context, q_d)\n",
    "\n",
    "# To linearize about the fixed point, set all torques to zero\n",
    "jointAcutation =  np.zeros((plant.num_actuators(),1))\n",
    "actuation_port = plant.get_actuation_input_port()\n",
    "actuation_port.FixValue(linearize_context, jointAcutation)\n",
    "\n",
    "\n",
    "# Linearize about this point\n",
    "\n",
    "plant_linear = Linearize(plant, linearize_context, input_port_index=actuation_port.get_index()\n",
    "                         ,output_port_index=plant.get_state_output_port().get_index())\n",
    "\n",
    "AMatrix = plant_linear.A()\n",
    "BMatrix = plant_linear.B()\n",
    "CMatrix = plant_linear.C()\n",
    "DMatrix = plant_linear.D()\n",
    "\n",
    "\n",
    "diagram = builder.Build()\n",
    "context = diagram.CreateDefaultContext()"
   ]
  },
  {
   "cell_type": "markdown",
   "metadata": {},
   "source": [
    "## Manual Linearization and Matrices Comparision"
   ]
  },
  {
   "cell_type": "code",
   "execution_count": 24,
   "metadata": {},
   "outputs": [],
   "source": [
    "MassMatrix = plant.CalcMassMatrixViaInverseDynamics(linearize_context)\n",
    "ActuationMatrix = plant.MakeActuationMatrix()\n",
    "\n",
    "lowerBlockLinearBMatrix = np.linalg.inv(MassMatrix).dot(ActuationMatrix)"
   ]
  },
  {
   "cell_type": "code",
   "execution_count": 25,
   "metadata": {},
   "outputs": [
    {
     "name": "stdout",
     "output_type": "stream",
     "text": [
      "(19, 19)\n"
     ]
    }
   ],
   "source": [
    "print(AMatrix.shape)"
   ]
  },
  {
   "cell_type": "code",
   "execution_count": 17,
   "metadata": {},
   "outputs": [
    {
     "name": "stdout",
     "output_type": "stream",
     "text": [
      "(19, 3)\n"
     ]
    }
   ],
   "source": [
    "print(BMatrix.shape)"
   ]
  },
  {
   "cell_type": "code",
   "execution_count": 18,
   "metadata": {},
   "outputs": [
    {
     "name": "stdout",
     "output_type": "stream",
     "text": [
      "10 9\n"
     ]
    }
   ],
   "source": [
    "print(plant.num_positions(), plant.num_velocities())"
   ]
  },
  {
   "cell_type": "code",
   "execution_count": 7,
   "metadata": {},
   "outputs": [
    {
     "name": "stdout",
     "output_type": "stream",
     "text": [
      "[[-0.         -0.         -0.        ]\n",
      " [ 0.          0.          0.        ]\n",
      " [ 0.          0.          0.        ]\n",
      " [ 0.          0.          0.        ]\n",
      " [ 0.          0.          0.        ]\n",
      " [ 0.          0.          0.        ]\n",
      " [ 0.          0.          0.        ]\n",
      " [ 0.          0.          0.        ]\n",
      " [ 0.          0.          0.        ]\n",
      " [ 0.          0.          0.        ]\n",
      " [-0.         -0.         -0.        ]\n",
      " [-0.03629935  0.02990013 -0.00890808]\n",
      " [-0.         -0.         -0.        ]\n",
      " [-0.01352109  0.01898231 -0.00565536]\n",
      " [-0.         -0.         -0.        ]\n",
      " [-0.         -0.         -0.        ]\n",
      " [ 0.3387484  -0.65943203  0.39703403]\n",
      " [-0.65943203  1.64583791 -1.28297244]\n",
      " [ 0.39703403 -1.28297244  1.33511675]]\n"
     ]
    }
   ],
   "source": [
    "print(BMatrix)"
   ]
  },
  {
   "cell_type": "code",
   "execution_count": 8,
   "metadata": {
    "scrolled": false
   },
   "outputs": [
    {
     "name": "stdout",
     "output_type": "stream",
     "text": [
      "[[ 0.          0.          0.        ]\n",
      " [-0.03629935  0.02990013 -0.00890808]\n",
      " [ 0.          0.          0.        ]\n",
      " [-0.01352109  0.01898231 -0.00565536]\n",
      " [ 0.          0.          0.        ]\n",
      " [ 0.          0.          0.        ]\n",
      " [ 0.3387484  -0.65943203  0.39703403]\n",
      " [-0.65943203  1.64583791 -1.28297244]\n",
      " [ 0.39703403 -1.28297244  1.33511675]]\n"
     ]
    }
   ],
   "source": [
    "print(lowerBlockLinearBMatrix)"
   ]
  },
  {
   "cell_type": "markdown",
   "metadata": {},
   "source": [
    "## Discrete Time MultiBodyPlant"
   ]
  },
  {
   "cell_type": "code",
   "execution_count": 9,
   "metadata": {},
   "outputs": [],
   "source": [
    "builder = DiagramBuilder()\n",
    "\n",
    "# Adds both MultibodyPlant and the SceneGraph, and wires them together.\n",
    "plant, scene_graph = AddMultibodyPlantSceneGraph(builder, time_step=0.001)\n",
    "# Note that we parse into both the plant and the scene_graph here.\n",
    "Parser(plant, scene_graph).AddModelFromFile(filePath)\n",
    "# Remove gravity\n",
    "plantGravityField = plant.gravity_field()\n",
    "plantGravityField.set_gravity_vector([0,0,0])\n",
    "plant.Finalize()"
   ]
  },
  {
   "cell_type": "markdown",
   "metadata": {},
   "source": [
    "## Create a Discrete Time Linear System"
   ]
  },
  {
   "cell_type": "code",
   "execution_count": 10,
   "metadata": {},
   "outputs": [],
   "source": [
    "# Linearize around Zero position and Velocity\n",
    "joints_default_pos = [0, 0, 0]\n",
    "joints_default_vel = [0, 0, 0]\n",
    "# Deafault Free-Floating Base Position (quaternion/position) and velocities (angular/linear)\n",
    "base_default_pose = [1.0, 0, 0, 0, 0, 0, 0]\n",
    "base_default_vel = [0, 0, 0, 0, 0, 0]\n",
    "q = base_default_pose+joints_default_pos\n",
    "q_d = base_default_vel+joints_default_vel\n",
    "\n",
    "linearize_context = plant.CreateDefaultContext()\n",
    "plant.SetPositions(linearize_context, q)\n",
    "plant.SetVelocities(linearize_context, q_d)\n",
    "\n",
    "# To linearize about the fixed point, set all torques to zero\n",
    "jointAcutation =  np.zeros((plant.num_actuators(),1))\n",
    "actuation_port = plant.get_actuation_input_port()\n",
    "actuation_port.FixValue(linearize_context, jointAcutation)\n",
    "\n",
    "\n",
    "# Linearize about this point\n",
    "\n",
    "plant_linear = Linearize(plant, linearize_context, input_port_index=actuation_port.get_index()\n",
    "                         ,output_port_index=plant.get_state_output_port().get_index())\n",
    "\n",
    "AMatrix = plant_linear.A()\n",
    "BMatrix = plant_linear.B()\n",
    "CMatrix = plant_linear.C()\n",
    "DMatrix = plant_linear.D()\n",
    "\n",
    "\n",
    "diagram = builder.Build()\n",
    "context = diagram.CreateDefaultContext()"
   ]
  },
  {
   "cell_type": "markdown",
   "metadata": {},
   "source": [
    "## Manual Linearization and Matrices Comparision"
   ]
  },
  {
   "cell_type": "code",
   "execution_count": 11,
   "metadata": {},
   "outputs": [],
   "source": [
    "MassMatrix = plant.CalcMassMatrixViaInverseDynamics(linearize_context)\n",
    "ActuationMatrix = plant.MakeActuationMatrix()\n",
    "\n",
    "lowerBlockLinearBMatrix = np.linalg.inv(MassMatrix).dot(ActuationMatrix)"
   ]
  },
  {
   "cell_type": "code",
   "execution_count": 12,
   "metadata": {},
   "outputs": [
    {
     "name": "stdout",
     "output_type": "stream",
     "text": [
      "[[ 0.00000000e+00  0.00000000e+00  0.00000000e+00]\n",
      " [ 0.00000000e+00  0.00000000e+00  0.00000000e+00]\n",
      " [-1.81496765e-08  1.49500662e-08 -4.45404199e-09]\n",
      " [ 0.00000000e+00  0.00000000e+00  0.00000000e+00]\n",
      " [-1.35210940e-08  1.89823127e-08 -5.65536074e-09]\n",
      " [ 0.00000000e+00  0.00000000e+00  0.00000000e+00]\n",
      " [ 0.00000000e+00  0.00000000e+00  0.00000000e+00]\n",
      " [ 3.38748405e-07 -6.59432026e-07  3.97034035e-07]\n",
      " [-6.59432026e-07  1.64583791e-06 -1.28297244e-06]\n",
      " [ 3.97034035e-07 -1.28297244e-06  1.33511675e-06]\n",
      " [ 0.00000000e+00  0.00000000e+00  0.00000000e+00]\n",
      " [-3.62993529e-05  2.99001325e-05 -8.90808398e-06]\n",
      " [ 0.00000000e+00  0.00000000e+00  0.00000000e+00]\n",
      " [-1.35210940e-05  1.89823127e-05 -5.65536074e-06]\n",
      " [ 0.00000000e+00  0.00000000e+00  0.00000000e+00]\n",
      " [ 0.00000000e+00  0.00000000e+00  0.00000000e+00]\n",
      " [ 3.38748405e-04 -6.59432026e-04  3.97034035e-04]\n",
      " [-6.59432026e-04  1.64583791e-03 -1.28297244e-03]\n",
      " [ 3.97034035e-04 -1.28297244e-03  1.33511675e-03]]\n"
     ]
    }
   ],
   "source": [
    "print(BMatrix)"
   ]
  },
  {
   "cell_type": "code",
   "execution_count": 13,
   "metadata": {
    "scrolled": true
   },
   "outputs": [
    {
     "name": "stdout",
     "output_type": "stream",
     "text": [
      "[[ 0.          0.          0.        ]\n",
      " [-0.03629935  0.02990013 -0.00890808]\n",
      " [ 0.          0.          0.        ]\n",
      " [-0.01352109  0.01898231 -0.00565536]\n",
      " [ 0.          0.          0.        ]\n",
      " [ 0.          0.          0.        ]\n",
      " [ 0.3387484  -0.65943203  0.39703403]\n",
      " [-0.65943203  1.64583791 -1.28297244]\n",
      " [ 0.39703403 -1.28297244  1.33511675]]\n"
     ]
    }
   ],
   "source": [
    "print(lowerBlockLinearBMatrix)"
   ]
  },
  {
   "cell_type": "code",
   "execution_count": 14,
   "metadata": {},
   "outputs": [
    {
     "name": "stdout",
     "output_type": "stream",
     "text": [
      "[[ 1.00000000e+00  0.00000000e+00  0.00000000e+00  0.00000000e+00\n",
      "   0.00000000e+00  0.00000000e+00  0.00000000e+00  0.00000000e+00\n",
      "   0.00000000e+00  0.00000000e+00  0.00000000e+00  0.00000000e+00\n",
      "   0.00000000e+00  0.00000000e+00  0.00000000e+00  0.00000000e+00\n",
      "   0.00000000e+00  0.00000000e+00  0.00000000e+00]\n",
      " [ 0.00000000e+00  1.00000000e+00  0.00000000e+00  0.00000000e+00\n",
      "   0.00000000e+00  0.00000000e+00  0.00000000e+00  0.00000000e+00\n",
      "   0.00000000e+00  0.00000000e+00  5.00000000e-04  0.00000000e+00\n",
      "   0.00000000e+00  0.00000000e+00 -2.77555756e-20  0.00000000e+00\n",
      "   0.00000000e+00  0.00000000e+00  0.00000000e+00]\n",
      " [ 0.00000000e+00  0.00000000e+00  1.00000000e+00  0.00000000e+00\n",
      "   0.00000000e+00  0.00000000e+00  0.00000000e+00  0.00000000e+00\n",
      "   0.00000000e+00  0.00000000e+00  0.00000000e+00  5.00000000e-04\n",
      "   0.00000000e+00  2.77555756e-20  0.00000000e+00  0.00000000e+00\n",
      "   1.81496765e-09 -1.49500662e-09  4.45404199e-10]\n",
      " [ 0.00000000e+00  0.00000000e+00  0.00000000e+00  1.00000000e+00\n",
      "   0.00000000e+00  0.00000000e+00  0.00000000e+00  0.00000000e+00\n",
      "   0.00000000e+00  0.00000000e+00  0.00000000e+00  0.00000000e+00\n",
      "   5.00000000e-04  0.00000000e+00  0.00000000e+00  0.00000000e+00\n",
      "   0.00000000e+00  0.00000000e+00  0.00000000e+00]\n",
      " [ 0.00000000e+00  0.00000000e+00  0.00000000e+00  0.00000000e+00\n",
      "   1.00000000e+00  0.00000000e+00  0.00000000e+00  0.00000000e+00\n",
      "   0.00000000e+00  0.00000000e+00  0.00000000e+00  6.88217698e-19\n",
      "   0.00000000e+00  1.00000000e-03  0.00000000e+00  0.00000000e+00\n",
      "   1.35210940e-09 -1.89823127e-09  5.65536074e-10]\n",
      " [ 0.00000000e+00  0.00000000e+00  0.00000000e+00  0.00000000e+00\n",
      "   0.00000000e+00  1.00000000e+00  0.00000000e+00  0.00000000e+00\n",
      "   0.00000000e+00  0.00000000e+00  0.00000000e+00  0.00000000e+00\n",
      "   0.00000000e+00  0.00000000e+00  1.00000000e-03  0.00000000e+00\n",
      "   0.00000000e+00  0.00000000e+00  0.00000000e+00]\n",
      " [ 0.00000000e+00  0.00000000e+00  0.00000000e+00  0.00000000e+00\n",
      "   0.00000000e+00  0.00000000e+00  1.00000000e+00  0.00000000e+00\n",
      "   0.00000000e+00  0.00000000e+00  0.00000000e+00  0.00000000e+00\n",
      "   0.00000000e+00  0.00000000e+00  0.00000000e+00  1.00000000e-03\n",
      "   0.00000000e+00  0.00000000e+00  0.00000000e+00]\n",
      " [ 0.00000000e+00  0.00000000e+00  0.00000000e+00  0.00000000e+00\n",
      "   0.00000000e+00  0.00000000e+00  0.00000000e+00  1.00000000e+00\n",
      "   0.00000000e+00  0.00000000e+00  0.00000000e+00 -1.36134245e-17\n",
      "   0.00000000e+00  0.00000000e+00  0.00000000e+00  0.00000000e+00\n",
      "   9.99966125e-04  6.59432026e-08 -3.97034035e-08]\n",
      " [ 0.00000000e+00  0.00000000e+00  0.00000000e+00  0.00000000e+00\n",
      "   0.00000000e+00  0.00000000e+00  0.00000000e+00  0.00000000e+00\n",
      "   1.00000000e+00  0.00000000e+00  0.00000000e+00  1.92522359e-17\n",
      "   0.00000000e+00  0.00000000e+00  0.00000000e+00  0.00000000e+00\n",
      "   6.59432025e-08  9.99835416e-04  1.28297244e-07]\n",
      " [ 0.00000000e+00  0.00000000e+00  0.00000000e+00  0.00000000e+00\n",
      "   0.00000000e+00  0.00000000e+00  0.00000000e+00  0.00000000e+00\n",
      "   0.00000000e+00  1.00000000e+00  0.00000000e+00 -3.59562172e-18\n",
      "   0.00000000e+00  0.00000000e+00  0.00000000e+00  0.00000000e+00\n",
      "  -3.97034034e-08  1.28297244e-07  9.99866488e-04]\n",
      " [ 0.00000000e+00  0.00000000e+00  0.00000000e+00  0.00000000e+00\n",
      "   0.00000000e+00  0.00000000e+00  0.00000000e+00  0.00000000e+00\n",
      "   0.00000000e+00  0.00000000e+00  1.00000000e+00  0.00000000e+00\n",
      "   0.00000000e+00  0.00000000e+00 -5.55111512e-17  0.00000000e+00\n",
      "   0.00000000e+00  0.00000000e+00  0.00000000e+00]\n",
      " [ 0.00000000e+00  0.00000000e+00  0.00000000e+00  0.00000000e+00\n",
      "   0.00000000e+00  0.00000000e+00  0.00000000e+00  0.00000000e+00\n",
      "   0.00000000e+00  0.00000000e+00  0.00000000e+00  1.00000000e+00\n",
      "   0.00000000e+00  5.55111512e-17  0.00000000e+00  0.00000000e+00\n",
      "   3.62993529e-06 -2.99001325e-06  8.90808398e-07]\n",
      " [ 0.00000000e+00  0.00000000e+00  0.00000000e+00  0.00000000e+00\n",
      "   0.00000000e+00  0.00000000e+00  0.00000000e+00  0.00000000e+00\n",
      "   0.00000000e+00  0.00000000e+00  0.00000000e+00  0.00000000e+00\n",
      "   1.00000000e+00  0.00000000e+00  0.00000000e+00  0.00000000e+00\n",
      "   0.00000000e+00  0.00000000e+00  0.00000000e+00]\n",
      " [ 0.00000000e+00  0.00000000e+00  0.00000000e+00  0.00000000e+00\n",
      "   0.00000000e+00  0.00000000e+00  0.00000000e+00  0.00000000e+00\n",
      "   0.00000000e+00  0.00000000e+00  0.00000000e+00  6.88217698e-16\n",
      "   0.00000000e+00  1.00000000e+00  0.00000000e+00  0.00000000e+00\n",
      "   1.35210940e-06 -1.89823127e-06  5.65536074e-07]\n",
      " [ 0.00000000e+00  0.00000000e+00  0.00000000e+00  0.00000000e+00\n",
      "   0.00000000e+00  0.00000000e+00  0.00000000e+00  0.00000000e+00\n",
      "   0.00000000e+00  0.00000000e+00  0.00000000e+00  0.00000000e+00\n",
      "   0.00000000e+00  0.00000000e+00  1.00000000e+00  0.00000000e+00\n",
      "   0.00000000e+00  0.00000000e+00  0.00000000e+00]\n",
      " [ 0.00000000e+00  0.00000000e+00  0.00000000e+00  0.00000000e+00\n",
      "   0.00000000e+00  0.00000000e+00  0.00000000e+00  0.00000000e+00\n",
      "   0.00000000e+00  0.00000000e+00  0.00000000e+00  0.00000000e+00\n",
      "   0.00000000e+00  0.00000000e+00  0.00000000e+00  1.00000000e+00\n",
      "   0.00000000e+00  0.00000000e+00  0.00000000e+00]\n",
      " [ 0.00000000e+00  0.00000000e+00  0.00000000e+00  0.00000000e+00\n",
      "   0.00000000e+00  0.00000000e+00  0.00000000e+00  0.00000000e+00\n",
      "   0.00000000e+00  0.00000000e+00  0.00000000e+00 -1.36134245e-14\n",
      "   0.00000000e+00  0.00000000e+00  0.00000000e+00  0.00000000e+00\n",
      "   9.99966125e-01  6.59432026e-05 -3.97034035e-05]\n",
      " [ 0.00000000e+00  0.00000000e+00  0.00000000e+00  0.00000000e+00\n",
      "   0.00000000e+00  0.00000000e+00  0.00000000e+00  0.00000000e+00\n",
      "   0.00000000e+00  0.00000000e+00  0.00000000e+00  1.92522359e-14\n",
      "   0.00000000e+00  0.00000000e+00  0.00000000e+00  0.00000000e+00\n",
      "   6.59432025e-05  9.99835416e-01  1.28297244e-04]\n",
      " [ 0.00000000e+00  0.00000000e+00  0.00000000e+00  0.00000000e+00\n",
      "   0.00000000e+00  0.00000000e+00  0.00000000e+00  0.00000000e+00\n",
      "   0.00000000e+00  0.00000000e+00  0.00000000e+00 -3.59562172e-15\n",
      "   0.00000000e+00  0.00000000e+00  0.00000000e+00  0.00000000e+00\n",
      "  -3.97034034e-05  1.28297244e-04  9.99866488e-01]]\n"
     ]
    }
   ],
   "source": [
    "print(AMatrix)"
   ]
  },
  {
   "cell_type": "code",
   "execution_count": null,
   "metadata": {},
   "outputs": [],
   "source": []
  }
 ],
 "metadata": {
  "kernelspec": {
   "display_name": "Python 3",
   "language": "python",
   "name": "python3"
  },
  "language_info": {
   "codemirror_mode": {
    "name": "ipython",
    "version": 3
   },
   "file_extension": ".py",
   "mimetype": "text/x-python",
   "name": "python",
   "nbconvert_exporter": "python",
   "pygments_lexer": "ipython3",
   "version": "3.6.9"
  }
 },
 "nbformat": 4,
 "nbformat_minor": 4
}
