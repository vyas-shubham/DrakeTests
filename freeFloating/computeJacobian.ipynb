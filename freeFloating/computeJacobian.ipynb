{
 "cells": [
  {
   "cell_type": "markdown",
   "metadata": {},
   "source": [
    "# Jacobian Comparision between Drake and SPART \n",
    "\n",
    "Computing and Comparing Jacobians for Free-floating base.\n",
    "\n",
    "Drake: https://drake.mit.edu/\n",
    "SPART: https://github.com/NPS-SRL/SPART\n",
    "\n",
    "Computing the Manipulator and Base (and combined) Jacobian for an end-effector of floating base robot. \n",
    "The state of the robot is kept same on both toolboxes. SPART computations are done in MATAB.\n",
    "\n",
    "The SPART jacobians were previously validated in simualtion in Drake using the Generalized Jacobian Matrix (Yoshida, Umetani. 1993). However, the jacobian from the function *CalcJacobianSpatialVelocity* does not compute jacobian as expected for a free-floating base.\n",
    "\n",
    "For more info on separating base and manipulator jacobian, see: https://spart.readthedocs.io/en/latest/Tutorial_Kinematics.html#jacobians"
   ]
  },
  {
   "cell_type": "code",
   "execution_count": 28,
   "metadata": {},
   "outputs": [],
   "source": [
    "import os, sys\n",
    "import time\n",
    "import numpy as np\n",
    "import matplotlib.pyplot as plt\n",
    "\n",
    "if 'google.colab' in sys.modules:\n",
    "  !pip install drake\n",
    "\n",
    "from pydrake.all import MultibodyPlant, Parser, JacobianWrtVariable"
   ]
  },
  {
   "cell_type": "markdown",
   "metadata": {},
   "source": [
    "# URDF Path"
   ]
  },
  {
   "cell_type": "code",
   "execution_count": 29,
   "metadata": {},
   "outputs": [],
   "source": [
    "if 'google.colab' in sys.modules:\n",
    "  # Check if this cell has already been run:\n",
    "  if not os.path.isdir('DrakeTests/freeFloating/'):\n",
    "    !git clone https://github.com/vyas-shubham/DrakeTests.git\n",
    "  urdfFolderPath = 'DrakeTests/freeFloating/'\n",
    "else:\n",
    "  urdfFolderPath = ''\n",
    "\n",
    "# Comment/Uncomment the lines below to select a S/C URDF\n",
    "filePath = urdfFolderPath+'planarSC_no_collision.urdf'\n",
    "assert os.path.isfile(filePath)"
   ]
  },
  {
   "cell_type": "code",
   "execution_count": 30,
   "metadata": {},
   "outputs": [],
   "source": [
    "# Initial Conditions\n",
    "q_opt = np.array([1., 0., 0., 0., 0., 0., 0., -0.72, 1.2, 0.72])\n",
    "# qd_opt = np.array([0., 0.0042, 0., -0.0124, 0., -0.0052, 0.0635, -0.1353, 0.1669])"
   ]
  },
  {
   "cell_type": "code",
   "execution_count": 31,
   "metadata": {},
   "outputs": [],
   "source": [
    "postContactPlant = MultibodyPlant(0.00001)\n",
    "postContactPlantInstance = Parser(postContactPlant).AddAllModelsFromFile(filePath)\n",
    "gravityField = postContactPlant.gravity_field()\n",
    "gravityField.set_gravity_vector([0, 0, 0])\n"
   ]
  },
  {
   "cell_type": "code",
   "execution_count": 32,
   "metadata": {},
   "outputs": [],
   "source": [
    "world_frame = postContactPlant.world_frame()\n",
    "chaserSC_frame = postContactPlant.GetFrameByName(\"ChaserSC\")\n",
    "target_frame = postContactPlant.GetFrameByName(\"TargetSC\")\n",
    "\n",
    "postContactPlant.Finalize()"
   ]
  },
  {
   "cell_type": "code",
   "execution_count": 33,
   "metadata": {},
   "outputs": [
    {
     "data": {
      "text/plain": [
       "10"
      ]
     },
     "execution_count": 33,
     "metadata": {},
     "output_type": "execute_result"
    }
   ],
   "source": [
    "postContactPlant.num_positions()"
   ]
  },
  {
   "cell_type": "code",
   "execution_count": 34,
   "metadata": {
    "scrolled": true
   },
   "outputs": [
    {
     "data": {
      "text/plain": [
       "<pydrake.systems.framework.FixedInputPortValue at 0x7fea2ceea430>"
      ]
     },
     "execution_count": 34,
     "metadata": {},
     "output_type": "execute_result"
    }
   ],
   "source": [
    "postCaptureContext = postContactPlant.CreateDefaultContext()\n",
    "postContactPlant.SetPositions(postCaptureContext, q_opt)\n",
    "# postContactPlant.SetVelocities(postCaptureContext, qd_opt)\n",
    "postContactPlant.get_actuation_input_port().FixValue(postCaptureContext, np.zeros(3))"
   ]
  },
  {
   "cell_type": "code",
   "execution_count": 35,
   "metadata": {},
   "outputs": [],
   "source": [
    "postCaptureTargetJacobian = postContactPlant.CalcJacobianSpatialVelocity(context=postCaptureContext,\n",
    "                                             with_respect_to=JacobianWrtVariable.kV,\n",
    "                                             frame_B=target_frame,\n",
    "                                             p_BP=np.zeros(3),\n",
    "                                             frame_A=chaserSC_frame,\n",
    "                                             frame_E=world_frame)"
   ]
  },
  {
   "cell_type": "code",
   "execution_count": 36,
   "metadata": {},
   "outputs": [
    {
     "name": "stdout",
     "output_type": "stream",
     "text": [
      "[[ 0.     0.     0.     0.     0.     0.     0.     0.     0.   ]\n",
      " [ 0.     0.     0.     0.     0.     0.     1.     1.     1.   ]\n",
      " [ 0.     0.     0.     0.     0.     0.     0.     0.     0.   ]\n",
      " [ 0.     0.     0.     0.     0.     0.     1.533  0.856  0.236]\n",
      " [ 0.     0.     0.     0.     0.     0.     0.     0.     0.   ]\n",
      " [ 0.     0.     0.     0.     0.     0.    -0.336 -0.929 -0.606]]\n"
     ]
    }
   ],
   "source": [
    "np.set_printoptions(precision=3)\n",
    "print(postCaptureTargetJacobian)"
   ]
  },
  {
   "cell_type": "code",
   "execution_count": 37,
   "metadata": {},
   "outputs": [
    {
     "name": "stdout",
     "output_type": "stream",
     "text": [
      "Drake Base Jacobian: \n",
      "[[0. 0. 0. 0. 0. 0.]\n",
      " [0. 0. 0. 0. 0. 0.]\n",
      " [0. 0. 0. 0. 0. 0.]\n",
      " [0. 0. 0. 0. 0. 0.]\n",
      " [0. 0. 0. 0. 0. 0.]\n",
      " [0. 0. 0. 0. 0. 0.]]\n"
     ]
    }
   ],
   "source": [
    "print(\"Drake Base Jacobian: \")\n",
    "print(postCaptureTargetJacobian[0:6,0:6])"
   ]
  },
  {
   "cell_type": "code",
   "execution_count": 38,
   "metadata": {},
   "outputs": [
    {
     "name": "stdout",
     "output_type": "stream",
     "text": [
      "Drake Manipulator Jacobian: \n",
      "[[ 0.     0.     0.   ]\n",
      " [ 1.     1.     1.   ]\n",
      " [ 0.     0.     0.   ]\n",
      " [ 1.533  0.856  0.236]\n",
      " [ 0.     0.     0.   ]\n",
      " [-0.336 -0.929 -0.606]]\n"
     ]
    }
   ],
   "source": [
    "print(\"Drake Manipulator Jacobian: \")\n",
    "print(postCaptureTargetJacobian[0:6,-3:])"
   ]
  },
  {
   "cell_type": "code",
   "execution_count": 39,
   "metadata": {},
   "outputs": [],
   "source": [
    "J_ChaserSC_TargetSC_postCap = np.loadtxt(open(\"J_ChaserSC_TargetSC_postCap.csv\", \"rb\"), delimiter=\",\")\n",
    "J_ChaserManip_TargetSC_postCap = np.loadtxt(open(\"J_ChaserManip_TargetSC_postCap.csv\", \"rb\"), delimiter=\",\")"
   ]
  },
  {
   "cell_type": "code",
   "execution_count": 40,
   "metadata": {},
   "outputs": [
    {
     "name": "stdout",
     "output_type": "stream",
     "text": [
      "SPART Base Jacobian: \n"
     ]
    },
    {
     "data": {
      "text/plain": [
       "array([[ 1.   ,  0.   ,  0.   ,  0.   ,  0.   ,  0.   ],\n",
       "       [ 0.   ,  1.   ,  0.   ,  0.   ,  0.   ,  0.   ],\n",
       "       [ 0.   ,  0.   ,  1.   ,  0.   ,  0.   ,  0.   ],\n",
       "       [ 0.   ,  2.583,  0.   ,  1.   ,  0.   ,  0.   ],\n",
       "       [-2.583,  0.   ,  0.336,  0.   ,  1.   ,  0.   ],\n",
       "       [ 0.   , -0.336,  0.   ,  0.   ,  0.   ,  1.   ]])"
      ]
     },
     "execution_count": 40,
     "metadata": {},
     "output_type": "execute_result"
    }
   ],
   "source": [
    "print(\"SPART Base Jacobian: \")\n",
    "J_ChaserSC_TargetSC_postCap"
   ]
  },
  {
   "cell_type": "code",
   "execution_count": 41,
   "metadata": {},
   "outputs": [
    {
     "name": "stdout",
     "output_type": "stream",
     "text": [
      "SPART Manipulator Jacobian: \n"
     ]
    },
    {
     "data": {
      "text/plain": [
       "array([[ 0.   ,  0.   ,  0.   ],\n",
       "       [ 1.   ,  1.   ,  1.   ],\n",
       "       [ 0.   ,  0.   ,  0.   ],\n",
       "       [ 1.533,  0.856,  0.236],\n",
       "       [ 0.   ,  0.   ,  0.   ],\n",
       "       [-0.336, -0.929, -0.606]])"
      ]
     },
     "execution_count": 41,
     "metadata": {},
     "output_type": "execute_result"
    }
   ],
   "source": [
    "print(\"SPART Manipulator Jacobian: \")\n",
    "J_ChaserManip_TargetSC_postCap"
   ]
  },
  {
   "cell_type": "code",
   "execution_count": null,
   "metadata": {},
   "outputs": [],
   "source": []
  }
 ],
 "metadata": {
  "kernelspec": {
   "display_name": "Python 3",
   "language": "python",
   "name": "python3"
  },
  "language_info": {
   "codemirror_mode": {
    "name": "ipython",
    "version": 3
   },
   "file_extension": ".py",
   "mimetype": "text/x-python",
   "name": "python",
   "nbconvert_exporter": "python",
   "pygments_lexer": "ipython3",
   "version": "3.8.10"
  }
 },
 "nbformat": 4,
 "nbformat_minor": 4
}
