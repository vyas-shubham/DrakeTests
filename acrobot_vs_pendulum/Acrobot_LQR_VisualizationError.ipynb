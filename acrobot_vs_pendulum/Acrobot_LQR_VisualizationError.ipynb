{
 "cells": [
  {
   "cell_type": "markdown",
   "metadata": {},
   "source": [
    "## Setup PyDrake in Google Colab"
   ]
  },
  {
   "cell_type": "code",
   "execution_count": 4,
   "metadata": {},
   "outputs": [],
   "source": [
    "import sys\n",
    "import importlib\n",
    "from urllib.request import urlretrieve\n",
    "\n",
    "if 'google.colab' in sys.modules and importlib.util.find_spec('pydrake') is None:\n",
    "  version='20200918'\n",
    "  build='nightly'\n",
    "  urlretrieve(f\"https://drake-packages.csail.mit.edu/drake/{build}/drake-{version}/setup_drake_colab.py\",\n",
    "              \"setup_drake_colab.py\")\n",
    "  from setup_drake_colab import setup_drake\n",
    "  setup_drake(version=version, build=build)\n",
    "  !pip install pyngrok==4.2.2"
   ]
  },
  {
   "cell_type": "markdown",
   "metadata": {},
   "source": [
    "## Import Libraries"
   ]
  },
  {
   "cell_type": "code",
   "execution_count": 7,
   "metadata": {},
   "outputs": [],
   "source": [
    "# Do general python imports\n",
    "\n",
    "import os\n",
    "import numpy as np\n",
    "import matplotlib.pyplot as plt\n",
    "\n",
    "# Drake Imports\n",
    "\n",
    "from pydrake.all import (DiagramBuilder, AddMultibodyPlantSceneGraph, Parser, MultibodyPlant, Variable, Simulator)\n",
    "from pydrake.all import Linearize, LinearQuadraticRegulator\n",
    "from pydrake.all import plot_system_graphviz, PlanarSceneGraphVisualizer"
   ]
  },
  {
   "cell_type": "markdown",
   "metadata": {},
   "source": [
    "## Setup URDF Model Path"
   ]
  },
  {
   "cell_type": "code",
   "execution_count": 9,
   "metadata": {},
   "outputs": [],
   "source": [
    "if 'google.colab' in sys.modules:\n",
    "  # Check if this cell has already been run:\n",
    "  if not os.path.isdir('DrakeTests/acrobot_vs_pendulum/'):\n",
    "    !git clone https://github.com/vyas-shubham/DrakeTests.git\n",
    "  urdfFolderPath = 'DrakeTests/acrobot_vs_pendulum/'\n",
    "else:\n",
    "  urdfFolderPath = ''\n",
    "\n",
    "# Comment/Uncomment the lines below to select a S/C URDF\n",
    "filePath = urdfFolderPath+'Acrobot.urdf'\n",
    "assert os.path.isfile(filePath)"
   ]
  },
  {
   "cell_type": "markdown",
   "metadata": {},
   "source": [
    "## Setup Diagram and Run Simulation\n",
    "\n",
    "The error is at the Linearization/LQR line even though the error is about visualization.\n",
    "\n",
    "```\n",
    "RuntimeError: The geometry query input port (see MultibodyPlant::get_geometry_query_input_port()) of this MultibodyPlant is not connected. Please connect thegeometry query output port of a SceneGraph object (see SceneGraph::get_query_output_port()) to this plants input port in a Diagram.\n",
    "```"
   ]
  },
  {
   "cell_type": "code",
   "execution_count": 10,
   "metadata": {},
   "outputs": [
    {
     "ename": "RuntimeError",
     "evalue": "The geometry query input port (see MultibodyPlant::get_geometry_query_input_port()) of this MultibodyPlant is not connected. Please connect thegeometry query output port of a SceneGraph object (see SceneGraph::get_query_output_port()) to this plants input port in a Diagram.",
     "output_type": "error",
     "traceback": [
      "\u001b[0;31m---------------------------------------------------------------------------\u001b[0m",
      "\u001b[0;31mRuntimeError\u001b[0m                              Traceback (most recent call last)",
      "\u001b[0;32m<ipython-input-10-f8b61ca7ba09>\u001b[0m in \u001b[0;36m<module>\u001b[0;34m\u001b[0m\n\u001b[1;32m     31\u001b[0m \u001b[0mR\u001b[0m \u001b[0;34m=\u001b[0m \u001b[0mnp\u001b[0m\u001b[0;34m.\u001b[0m\u001b[0midentity\u001b[0m\u001b[0;34m(\u001b[0m\u001b[0;36m1\u001b[0m\u001b[0;34m)\u001b[0m\u001b[0;34m\u001b[0m\u001b[0;34m\u001b[0m\u001b[0m\n\u001b[1;32m     32\u001b[0m lqr_controller = builder.AddSystem(LinearQuadraticRegulator(plant, linearize_context, Q, R,\n\u001b[0;32m---> 33\u001b[0;31m                                                             input_port_index=actuation_port.get_index()))\n\u001b[0m\u001b[1;32m     34\u001b[0m \u001b[0;34m\u001b[0m\u001b[0m\n\u001b[1;32m     35\u001b[0m \u001b[0;31m# Connect the LQR Controller to MBP\u001b[0m\u001b[0;34m\u001b[0m\u001b[0;34m\u001b[0m\u001b[0;34m\u001b[0m\u001b[0m\n",
      "\u001b[0;31mRuntimeError\u001b[0m: The geometry query input port (see MultibodyPlant::get_geometry_query_input_port()) of this MultibodyPlant is not connected. Please connect thegeometry query output port of a SceneGraph object (see SceneGraph::get_query_output_port()) to this plants input port in a Diagram."
     ]
    }
   ],
   "source": [
    "duration = 10.0\n",
    "# Set up a block diagram with the robot (dynamics) and a visualization block.\n",
    "builder = DiagramBuilder()\n",
    "plant, scene_graph = AddMultibodyPlantSceneGraph(builder, time_step=0.0001)\n",
    "\n",
    "# Load the Acrobot description from URDF file\n",
    "parser = Parser(plant, scene_graph)\n",
    "parser.AddModelFromFile(filePath)\n",
    "\n",
    "# # Reduce/remove gravity\n",
    "# plantGravityField = plant.gravity_field()\n",
    "# plantGravityField.set_gravity_vector([0,0,0])\n",
    "\n",
    "plant.Finalize()\n",
    "\n",
    "# Linearize the MBP about [pi, 0, 0, 0]\n",
    "q = [np.pi, 0]\n",
    "q_dot = [0, 0]\n",
    "\n",
    "linearize_context = plant.CreateDefaultContext()\n",
    "plant.SetPositions(linearize_context, q)\n",
    "plant.SetVelocities(linearize_context, q_dot)\n",
    "actuation_port = plant.get_actuation_input_port()\n",
    "actuation_port.FixValue(linearize_context, [0])\n",
    "\n",
    "# Set up LQR, with high velocity gains to try to ensure that the end state is zero-velocity\n",
    "# without caring much for the final orientation.\n",
    "Q = np.diag([0.001, 0.001, 10, 10])\n",
    "# For testing, high position gains as well.\n",
    "# Q = np.diag([100, 100, 100, 100])\n",
    "R = np.identity(1)\n",
    "lqr_controller = builder.AddSystem(LinearQuadraticRegulator(plant, linearize_context, Q, R,\n",
    "                                                            input_port_index=actuation_port.get_index()))\n",
    "\n",
    "# Connect the LQR Controller to MBP\n",
    "builder.Connect(plant.get_state_output_port(), lqr_controller.get_input_port(0))\n",
    "builder.Connect(lqr_controller.get_output_port(0), plant.get_actuation_input_port())\n",
    "\n",
    "# Add a Planar Visualization instead of a 3-D Meshcat Visualization\n",
    "visualizer = builder.AddSystem(PlanarSceneGraphVisualizer(scene_graph, \n",
    "                          xlim=[-4., 4.], ylim=[-4., 4.], show=True))\n",
    "builder.Connect(scene_graph.get_pose_bundle_output_port(),\n",
    "            visualizer.get_input_port(0))\n",
    "\n",
    "\n",
    "# Set up a simulator to run the\n",
    "simulator = Simulator(diagram)\n",
    "context = simulator.get_mutable_context()\n",
    "plant_context = plant.GetMyMutableContextFromRoot(context)\n",
    "actuation_port.FixValue(plant_context, [0])\n",
    "\n",
    "for i in range(1):\n",
    "    context.SetTime(0.)\n",
    "    randState =  np.array(q+q_dot) + 0.3 * np.random.randn(4,)\n",
    "    randState[-2:0] = 4 * randState[-2:0]\n",
    "    print(randState)\n",
    "    plant_context.SetDiscreteState(randState)\n",
    "#     plant_context.SetContinuousState(randState)\n",
    "    simulator.Initialize()\n",
    "    simulator.set_target_realtime_rate(1.)\n",
    "    simulator.AdvanceTo(duration)\n"
   ]
  },
  {
   "cell_type": "code",
   "execution_count": null,
   "metadata": {},
   "outputs": [],
   "source": []
  },
  {
   "cell_type": "code",
   "execution_count": null,
   "metadata": {},
   "outputs": [],
   "source": []
  },
  {
   "cell_type": "code",
   "execution_count": null,
   "metadata": {},
   "outputs": [],
   "source": []
  },
  {
   "cell_type": "code",
   "execution_count": null,
   "metadata": {},
   "outputs": [],
   "source": []
  },
  {
   "cell_type": "code",
   "execution_count": null,
   "metadata": {},
   "outputs": [],
   "source": []
  },
  {
   "cell_type": "code",
   "execution_count": null,
   "metadata": {},
   "outputs": [],
   "source": []
  },
  {
   "cell_type": "code",
   "execution_count": null,
   "metadata": {},
   "outputs": [],
   "source": []
  },
  {
   "cell_type": "code",
   "execution_count": null,
   "metadata": {},
   "outputs": [],
   "source": []
  },
  {
   "cell_type": "code",
   "execution_count": null,
   "metadata": {},
   "outputs": [],
   "source": []
  },
  {
   "cell_type": "code",
   "execution_count": null,
   "metadata": {},
   "outputs": [],
   "source": []
  }
 ],
 "metadata": {
  "kernelspec": {
   "display_name": "Python 3",
   "language": "python",
   "name": "python3"
  },
  "language_info": {
   "codemirror_mode": {
    "name": "ipython",
    "version": 3
   },
   "file_extension": ".py",
   "mimetype": "text/x-python",
   "name": "python",
   "nbconvert_exporter": "python",
   "pygments_lexer": "ipython3",
   "version": "3.6.9"
  }
 },
 "nbformat": 4,
 "nbformat_minor": 4
}
