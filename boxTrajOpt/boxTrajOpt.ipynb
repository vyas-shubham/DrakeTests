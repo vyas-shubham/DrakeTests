{
 "cells": [
  {
   "cell_type": "markdown",
   "metadata": {},
   "source": [
    "## Setup PyDrake using underactuated in Google Colab"
   ]
  },
  {
   "cell_type": "code",
   "execution_count": null,
   "metadata": {},
   "outputs": [],
   "source": [
    "import sys\n",
    "import importlib\n",
    "from urllib.request import urlretrieve\n",
    "\n",
    "if 'google.colab' in sys.modules and importlib.util.find_spec('pydrake') is None:\n",
    "  !curl -s https://raw.githubusercontent.com/RussTedrake/underactuated/master/scripts/setup/jupyter_setup.py > jupyter_setup.py\n",
    "  from jupyter_setup import setup_underactuated\n",
    "  setup_underactuated()"
   ]
  },
  {
   "cell_type": "markdown",
   "metadata": {},
   "source": [
    "## Import Libraries"
   ]
  },
  {
   "cell_type": "code",
   "execution_count": null,
   "metadata": {},
   "outputs": [],
   "source": [
    "# Imports\n",
    "import os\n",
    "import numpy as np\n",
    "\n",
    "from pydrake.all import MultibodyPlant, Parser\n",
    "\n",
    "from pydrake.all import DirectTranscription, DirectCollocation, Solve\n",
    "\n",
    "from pydrake.autodiffutils import AutoDiffXd"
   ]
  },
  {
   "cell_type": "markdown",
   "metadata": {},
   "source": [
    "## Setup URDF Model Path"
   ]
  },
  {
   "cell_type": "code",
   "execution_count": null,
   "metadata": {},
   "outputs": [],
   "source": [
    "if 'google.colab' in sys.modules:\n",
    "  # Check if this cell has already been run:\n",
    "  if not os.path.isdir('DrakeTests/boxTrajOpt/'):\n",
    "    !git clone https://github.com/vyas-shubham/DrakeTests.git\n",
    "  urdfFolderPath = 'DrakeTests/boxTrajOpt/'\n",
    "else:\n",
    "  urdfFolderPath = ''\n",
    "\n",
    "# Comment/Uncomment the lines below to select a URDF\n",
    "urdfpath = urdfFolderPath+'box.urdf'\n",
    "assert os.path.isfile(urdfpath)"
   ]
  },
  {
   "cell_type": "markdown",
   "metadata": {},
   "source": [
    "## Optimization Problem\n",
    "\n",
    "The current problem is taken from **Betts, J. T. (2010). Practical Methods for Optimal Control and Estimation Using Nonlinear Programming.** \n",
    "\n",
    "**Example 6.12: Reorientation of a Rigid Body.**\n",
    "\n",
    "The urdf contains the inertias as given in the book: Ixx = 5621, Iyy = 4547, Izz = 2364\n",
    "\n",
    "Torque Limits = abs(u) <= 50Nm\n",
    "\n",
    "$\\phi = 150^o$\n",
    "\n",
    "Initial State: Rotation Quaternion q(0) = [1,0,0,0]. Position Vector = [0,0,0]\n",
    "\n",
    "Final State: Rotation Quaternion q(N) = $[cos(\\phi/2),sin(\\phi/2),0,0]$. Position Vector = [0,0,0]\n",
    "\n",
    "The trajectory optimisation is setup using generalized forces as the inputs. No actuators are used.\n",
    "\n",
    "Since this is similar to a double integrator in rotation form, the optimal solution is a bang-bang control with max/min torques being applied to each of the rotation axes. The time taken (for one of the solutions) is 28.63s. "
   ]
  },
  {
   "cell_type": "markdown",
   "metadata": {},
   "source": [
    "### Initial and Final State Arrays"
   ]
  },
  {
   "cell_type": "code",
   "execution_count": null,
   "metadata": {},
   "outputs": [],
   "source": [
    "x0_base_position = [1, 0, 0, 0, 0, 0, 0]\n",
    "x0_base_vel = [0, 0, 0, 0, 0, 0]\n",
    "x0 = np.array(x0_base_position + x0_base_vel)\n",
    "\n",
    "phi = np.deg2rad(150)\n",
    "xf_base_position = [np.cos(phi/2), np.sin(phi/2), 0, 0, 0, 0, 0]\n",
    "xf_base_vel = [0, 0, 0, 0, 0, 0]\n",
    "xf = np.array(xf_base_position + xf_base_vel)"
   ]
  },
  {
   "cell_type": "markdown",
   "metadata": {},
   "source": [
    "### Using Direct Transciption\n",
    "\n",
    "The solver is not able to find a solution to due infeasible constraints."
   ]
  },
  {
   "cell_type": "code",
   "execution_count": null,
   "metadata": {},
   "outputs": [],
   "source": [
    "# # Direct Transcription Method\n",
    "\n",
    "dt = 0.1\n",
    "\n",
    "plant = MultibodyPlant(time_step=dt)\n",
    "Parser(plant).AddModelFromFile(urdfpath)\n",
    "# Remove gravity\n",
    "plantGravityField = plant.gravity_field()\n",
    "plantGravityField.set_gravity_vector([0,0,0])\n",
    "plant.Finalize()\n",
    "# plant = plant.ToAutoDiffXd()\n",
    "\n",
    "trajOptContext = plant.CreateDefaultContext()\n",
    "\n",
    "NDirTrans = 300\n",
    "\n",
    "\n",
    "prog = DirectTranscription(plant, trajOptContext, NDirTrans,\n",
    "                           input_port_index=plant.get_applied_generalized_force_input_port().get_index())\n",
    "\n",
    "for x_index in range(x0.size):\n",
    "    prog.AddConstraint(prog.initial_state()[x_index] == x0[x_index])\n",
    "    prog.AddConstraint(prog.final_state()[x_index] == xf[x_index])\n",
    "\n",
    "for u_index in range(prog.input().size):\n",
    "    prog.AddConstraintToAllKnotPoints(prog.input()[u_index] <= 50)\n",
    "    prog.AddConstraintToAllKnotPoints(prog.input()[u_index] >= 50)\n",
    "\n",
    "\n",
    "    \n",
    "result = Solve(prog)\n",
    "\n",
    "print(\"Optimisation Solution Found?: {}\".format(result.is_success()))\n",
    "\n",
    "if not result.is_success():\n",
    "    infeasible = result.GetInfeasibleConstraints(prog)\n",
    "    print(\"Infeasible constraints:\")\n",
    "    for i in range(len(infeasible)):\n",
    "        print(infeasible[i])"
   ]
  },
  {
   "cell_type": "markdown",
   "metadata": {},
   "source": [
    "### Using Direct Collocation\n",
    "\n",
    "The solver is not able to find a solution to due infeasible constraints."
   ]
  },
  {
   "cell_type": "code",
   "execution_count": null,
   "metadata": {
    "scrolled": false
   },
   "outputs": [],
   "source": [
    "# Direct Collocation Method\n",
    "\n",
    "plant = MultibodyPlant(time_step=0.0)\n",
    "Parser(plant).AddModelFromFile(urdfpath)\n",
    "# Remove gravity\n",
    "plantGravityField = plant.gravity_field()\n",
    "plantGravityField.set_gravity_vector([0,0,0])\n",
    "plant.Finalize()\n",
    "# plant = plant.ToAutoDiffXd()\n",
    "trajOptContext = plant.CreateDefaultContext()\n",
    "\n",
    "NDirCol = 60\n",
    "h_min = 0.01\n",
    "h_max = 0.5\n",
    "\n",
    "dircol = DirectCollocation(plant,\n",
    "                           trajOptContext,\n",
    "                           num_time_samples=NDirCol,\n",
    "                           minimum_timestep=h_min,\n",
    "                           maximum_timestep=h_max,\n",
    "                           input_port_index=plant.get_applied_generalized_force_input_port().get_index())\n",
    "\n",
    "dircol.AddEqualTimeIntervalsConstraints()\n",
    "\n",
    "for x_index in range(x0.size):\n",
    "    dircol.AddConstraint(dircol.initial_state()[x_index] == x0[x_index])\n",
    "    dircol.AddConstraint(dircol.final_state()[x_index] == xf[x_index])\n",
    "    \n",
    "for u_index in range(dircol.input().size):\n",
    "    prog.AddConstraintToAllKnotPoints(prog.input()[u_index] <= 50)\n",
    "    prog.AddConstraintToAllKnotPoints(prog.input()[u_index] >= -50)\n",
    "\n",
    "result = Solve(prog)\n",
    "\n",
    "print(\"Optimisation Solution Found?: {}\".format(result.is_success()))\n",
    "\n",
    "if not result.is_success():\n",
    "    infeasible = result.GetInfeasibleConstraints(prog)\n",
    "    print(\"Infeasible constraints:\")\n",
    "    for i in range(len(infeasible)):\n",
    "        print(infeasible[i])"
   ]
  }
 ],
 "metadata": {
  "kernelspec": {
   "display_name": "Python 3",
   "language": "python",
   "name": "python3"
  },
  "language_info": {
   "codemirror_mode": {
    "name": "ipython",
    "version": 3
   },
   "file_extension": ".py",
   "mimetype": "text/x-python",
   "name": "python",
   "nbconvert_exporter": "python",
   "pygments_lexer": "ipython3",
   "version": "3.6.9"
  }
 },
 "nbformat": 4,
 "nbformat_minor": 4
}
